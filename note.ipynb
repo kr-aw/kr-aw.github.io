{
 "cells": [
  {
   "cell_type": "markdown",
   "id": "91553164",
   "metadata": {},
   "source": [
    "### Contents:\n",
    "* [1. Hedge or Not](#1)\n",
    "    * [1 소주제](#11)\n",
    "    * [1 소주제](#12)\n",
    "* [2. Revisit All weather](#2)\n",
    "    * [달력이 없다면](#21)\n",
    "    * [맑거니 비오거나](#22)    \n",
    "    * [달력이 있는 우리는](#23)\n",
    "    * [Forecasting several steps](#24)\n",
    "    \n",
    "* [3. 흥미로운 잡설](#9)"
   ]
  },
  {
   "cell_type": "markdown",
   "id": "c294fece",
   "metadata": {},
   "source": [
    "### 1. Hedge or Not <a class=\"anchor\" id=\"1\"></a>\n",
    "한국 투자자 입장에서 미국 자산에 투자할 때 원달러 환율을 헤지할지 말지는 중요한 문제입니다."
   ]
  },
  {
   "cell_type": "markdown",
   "id": "19a4628d",
   "metadata": {},
   "source": [
    "### 1-1. 달러화는 아직 안전자산 <a class=\"anchor\" id=\"11\"></a>\n",
    "아이고."
   ]
  },
  {
   "cell_type": "markdown",
   "id": "9ea07676",
   "metadata": {},
   "source": [
    "### 1-1. 달러화 선물 매도의 추가 비용 <a class=\"anchor\" id=\"12\"></a>\n",
    "아이고."
   ]
  },
  {
   "cell_type": "markdown",
   "id": "ea62408e",
   "metadata": {},
   "source": [
    "### 2. 올웨더에 대한 고찰 <a class=\"anchor\" id=\"2\"></a>\n",
    "아이고."
   ]
  },
  {
   "cell_type": "markdown",
   "id": "08e902ec",
   "metadata": {},
   "source": [
    "### 2-1. 우리가 달력이 없다면 <a class=\"anchor\" id=\"21\"></a>\n",
    "삼체와 같은 새로운 세계에 왔다고 생각해 봅시다. 혹은 달력이 없는 세상에 살고 있다고 상상해 봅시다.\\\n",
    "조금 더 구체적으로는 우리는 오늘 추울지 더울지, 날씨가 맑을지 혹은 비가올지 전혀 알수 없는 상황이라고 생각해 봅시다\\\n",
    "일단 더울 수 있으니 반바지를 입고, 추울지도 모르니 상의에는 겨울 코트를 걸칩니다.\\\n",
    "날씨가 너무 맑아 햇볕이 강할수 있으니 모자를 쓰고, 비가 올수도 있으니 비옷도 걸치고 밖으로 나갑니다.\\\n",
    "이제 우리는 올웨더 패션을 완성했습니다."
   ]
  },
  {
   "cell_type": "markdown",
   "id": "59c2a72e",
   "metadata": {},
   "source": [
    "### 2-2. 지금 무슨 계절인지 안다면 <a class=\"anchor\" id=\"22\"></a>\n",
    "하지만 우리는 달력이 있고, 지금 무슨 계절인지 모두들 알고 있습니다. \\\n",
    "계절을 모르는 사람을 철부지라고 부를 정도로 모두들 계절을 알고 있습니다. \\\n",
    "겨울과 봄에는 아직 날씨가 추울테니 반바지는 입을 필요가 없습니다. \\\n",
    "봄과 여름에 비가 더 자주 오는 편이니, 가을과 겨울에는 비옷을 치워둬도 괜찮습니다. \\\n",
    "올웨더 패션은 '힙'할지 모르지만 누군가 보기에는 철부지 패션일 뿐입니다."
   ]
  }
 ],
 "metadata": {
  "language_info": {
   "name": "python"
  }
 },
 "nbformat": 4,
 "nbformat_minor": 5
}
